{
 "cells": [
  {
   "cell_type": "markdown",
   "metadata": {},
   "source": [
    "# Imports"
   ]
  },
  {
   "cell_type": "code",
   "execution_count": 1,
   "metadata": {},
   "outputs": [],
   "source": [
    "import time\n",
    "import requests\n",
    "import os\n",
    "from zipfile import ZipFile\n",
    "import pandas as pd\n",
    "import numpy as np\n",
    "\n",
    "from matplotlib import pyplot as plt\n",
    "\n",
    "from tensorflow.python.keras.preprocessing.image import ImageDataGenerator\n",
    "from tensorflow.python.keras.layers import Dense, Dropout, Input, Activation, Conv2D, MaxPooling2D, Flatten\n",
    "from tensorflow.python.keras import Sequential\n",
    "from tensorflow.keras.optimizers import SGD"
   ]
  },
  {
   "cell_type": "markdown",
   "metadata": {},
   "source": [
    "# HTTPS Requests, to send status via TelegramBot"
   ]
  },
  {
   "cell_type": "code",
   "execution_count": 2,
   "metadata": {},
   "outputs": [
    {
     "data": {
      "text/plain": [
       "{'ok': True,\n",
       " 'result': {'message_id': 7300,\n",
       "  'from': {'id': 862297446,\n",
       "   'is_bot': True,\n",
       "   'first_name': 'Daniel_bot',\n",
       "   'username': 'KingArschFickerBot'},\n",
       "  'chat': {'id': 660201452,\n",
       "   'first_name': 'Daniel',\n",
       "   'username': 'ps3ud0nym',\n",
       "   'type': 'private'},\n",
       "  'date': 1580841224,\n",
       "  'text': 'Start Script'}}"
      ]
     },
     "execution_count": 2,
     "metadata": {},
     "output_type": "execute_result"
    }
   ],
   "source": [
    "def telegram_bot_sendtext(bot_message):\n",
    "    \n",
    "    bot_token = 'ENTER YOUR BOT TOKEN'\n",
    "    bot_chatID = 'ENTER CHAT ID'\n",
    "    send_text = 'https://api.telegram.org/bot' + bot_token + '/sendMessage?chat_id=' + bot_chatID + '&parse_mode=Markdown&text=' + bot_message\n",
    "\n",
    "    response = requests.get(send_text)\n",
    "\n",
    "    return response.json()\n",
    "\n",
    "telegram_bot_sendtext('Start Script')"
   ]
  },
  {
   "cell_type": "markdown",
   "metadata": {},
   "source": [
    "# Load Data\n",
    "\n",
    "\n",
    "1. Add the *Dogs vs. Cats Redux: Kernels Edition* on the top right __+ Add Data__\n",
    "   \n",
    "   Now we have the folling folder structure:  \n",
    "   \n",
    "   ├── Dogs vs. Cats Redux: Kernels Edition  \n",
    "   │   ├── test.zip  \n",
    "   │   ├── train.zip  \n",
    "   │   └── sample_submission.csv  \n",
    "   \n",
    "   \n",
    "2. Next we need to extract train and test data. We will use __ZipFile__ for that. Since the input directory is a __read only__ directory, we have to extract the zip files into the output directory."
   ]
  },
  {
   "cell_type": "code",
   "execution_count": 3,
   "metadata": {},
   "outputs": [],
   "source": [
    "with ZipFile('../input/dogs-vs-cats-redux-kernels-edition/train.zip') as zipobj:\n",
    "    zipobj.extractall('../working')\n",
    "with ZipFile('../input/dogs-vs-cats-redux-kernels-edition/test.zip') as zipobj:\n",
    "    zipobj.extractall('../working')"
   ]
  },
  {
   "cell_type": "code",
   "execution_count": null,
   "metadata": {},
   "outputs": [],
   "source": [
    "train_data = os.listdir('../working/train')\n",
    "test_data = os.listdir('../working/test')\n",
    "\n",
    "os.mkdir('../working/train/cats')\n",
    "os.mkdir('../working/train/dogs')\n",
    "os.mkdir('../working/test/cats')\n",
    "os.mkdir('../working/test/dogs')\n",
    "os.mkdir('../working/models')\n",
    "\n",
    "for i in train_data:\n",
    "    print(i)\n",
    "    if (i != 'cats') and (i != 'dogs'):\n",
    "        if 'cat' in i:\n",
    "            os.replace(\"../working/train/\"+i, \"../working/train/cats/\"+i)\n",
    "        elif 'dog' in i:\n",
    "            os.replace(\"../working/train/\"+i, \"../working/train/dogs/\"+i)"
   ]
  },
  {
   "cell_type": "markdown",
   "metadata": {},
   "source": [
    " 3. After extraction and sorting we have the following folder structure:\n",
    " \n",
    " ├── working   \n",
    " │   ├── train   \n",
    " │   │    ├── cats  \n",
    " │   │    └── dogs  \n",
    " │   ├── test    \n",
    " │   └── sample_submission.csv    "
   ]
  },
  {
   "cell_type": "markdown",
   "metadata": {},
   "source": [
    "# Data Generator"
   ]
  },
  {
   "cell_type": "code",
   "execution_count": 5,
   "metadata": {
    "_cell_guid": "b1076dfc-b9ad-4769-8c92-a6c4dae69d19",
    "_uuid": "8f2839f25d086af736a60e9eeb907d3b93b6e0e5"
   },
   "outputs": [
    {
     "name": "stdout",
     "output_type": "stream",
     "text": [
      "Found 20000 images belonging to 2 classes.\n",
      "Found 5000 images belonging to 2 classes.\n",
      "Found 12500 images belonging to 1 classes.\n"
     ]
    }
   ],
   "source": [
    "bs=32\n",
    "\n",
    "train_datagen = ImageDataGenerator(\n",
    "        rescale=1./255,\n",
    "        shear_range=0.2,\n",
    "        zoom_range=0.2,\n",
    "        horizontal_flip=True,\n",
    "        validation_split=0.2)\n",
    "\n",
    "test_datagen = ImageDataGenerator(rescale=1./255)\n",
    "\n",
    "train_generator = train_datagen.flow_from_directory(\n",
    "        '../working/train',\n",
    "        target_size=(128, 128),\n",
    "        batch_size=bs,\n",
    "        class_mode='binary',\n",
    "        subset='training') # set as training data\n",
    "\n",
    "validation_generator = train_datagen.flow_from_directory(\n",
    "        '../working/train',\n",
    "        target_size=(128, 128),\n",
    "        batch_size=bs,\n",
    "        class_mode='binary',\n",
    "        subset='validation') # set as validation data\n",
    "\n",
    "test_generator = test_datagen.flow_from_directory(\n",
    "        '../working',\n",
    "        target_size=(128, 128),\n",
    "        batch_size=1,\n",
    "        classes=['test'])"
   ]
  },
  {
   "cell_type": "markdown",
   "metadata": {},
   "source": [
    "# Define and Train model"
   ]
  },
  {
   "cell_type": "code",
   "execution_count": 6,
   "metadata": {},
   "outputs": [
    {
     "name": "stdout",
     "output_type": "stream",
     "text": [
      "Done!\n"
     ]
    }
   ],
   "source": [
    "lr=None\n",
    "modelname=''\n",
    "model_destination = '../working/models/'\n",
    "optimizer = ''\n",
    "# define cnn model\n",
    "def vgg():\n",
    "    model = Sequential()\n",
    "    model.add(Conv2D(32, (3, 3), activation='relu', kernel_initializer='he_uniform', padding='same', input_shape=(128, 128, 3)))\n",
    "    model.add(MaxPooling2D((2, 2)))\n",
    "    model.add(Flatten())\n",
    "    model.add(Dense(128, activation='relu', kernel_initializer='he_uniform'))\n",
    "    model.add(Dense(1, activation='sigmoid'))\n",
    "    # compile model\n",
    "    opt = SGD(lr=0.001, momentum=0.9)\n",
    "    model.compile(optimizer=opt, loss='binary_crossentropy', metrics=['accuracy'])\n",
    "    optimizer = opt.__dict__['_name']\n",
    "    lr = opt.__dict__['_hyper']['learning_rate']\n",
    "    global modelname\n",
    "    modelname ='VGG'\n",
    "    return model\n",
    "\n",
    "classification_model = vgg()\n",
    "print('Done!')"
   ]
  },
  {
   "cell_type": "code",
   "execution_count": 7,
   "metadata": {},
   "outputs": [
    {
     "name": "stdout",
     "output_type": "stream",
     "text": [
      "Train for 625 steps, validate for 157 steps\n",
      "Epoch 1/100\n",
      "625/625 [==============================] - 142s 228ms/step - loss: 0.6817 - accuracy: 0.5649 - val_loss: 0.6697 - val_accuracy: 0.5806\n",
      "Epoch 2/100\n",
      "625/625 [==============================] - 139s 223ms/step - loss: 0.6536 - accuracy: 0.6096 - val_loss: 0.6813 - val_accuracy: 0.5706\n",
      "Epoch 3/100\n",
      "625/625 [==============================] - 140s 224ms/step - loss: 0.6422 - accuracy: 0.6225 - val_loss: 0.6242 - val_accuracy: 0.6566\n",
      "Epoch 4/100\n",
      "625/625 [==============================] - 139s 222ms/step - loss: 0.6248 - accuracy: 0.6442 - val_loss: 0.6115 - val_accuracy: 0.6596\n",
      "Epoch 5/100\n",
      "625/625 [==============================] - 139s 222ms/step - loss: 0.6088 - accuracy: 0.6670 - val_loss: 0.6070 - val_accuracy: 0.6682\n",
      "Epoch 6/100\n",
      "625/625 [==============================] - 140s 224ms/step - loss: 0.5933 - accuracy: 0.6805 - val_loss: 0.5888 - val_accuracy: 0.6850\n",
      "Epoch 7/100\n",
      "625/625 [==============================] - 139s 223ms/step - loss: 0.5834 - accuracy: 0.6855 - val_loss: 0.5784 - val_accuracy: 0.6936\n",
      "Epoch 8/100\n",
      "625/625 [==============================] - 139s 222ms/step - loss: 0.5733 - accuracy: 0.6995 - val_loss: 0.5721 - val_accuracy: 0.7010\n",
      "Epoch 9/100\n",
      "625/625 [==============================] - 140s 224ms/step - loss: 0.5646 - accuracy: 0.7079 - val_loss: 0.5585 - val_accuracy: 0.7110\n",
      "Epoch 10/100\n",
      "625/625 [==============================] - 139s 222ms/step - loss: 0.5564 - accuracy: 0.7139 - val_loss: 0.5492 - val_accuracy: 0.7274\n",
      "Epoch 11/100\n",
      "625/625 [==============================] - 139s 223ms/step - loss: 0.5439 - accuracy: 0.7225 - val_loss: 0.5502 - val_accuracy: 0.7268\n",
      "Epoch 12/100\n",
      "625/625 [==============================] - 139s 223ms/step - loss: 0.5336 - accuracy: 0.7297 - val_loss: 0.5335 - val_accuracy: 0.7280\n",
      "Epoch 13/100\n",
      "625/625 [==============================] - 139s 223ms/step - loss: 0.5235 - accuracy: 0.7387 - val_loss: 0.5276 - val_accuracy: 0.7414\n",
      "Epoch 14/100\n",
      "625/625 [==============================] - 139s 222ms/step - loss: 0.5115 - accuracy: 0.7490 - val_loss: 0.5232 - val_accuracy: 0.7380\n",
      "Epoch 15/100\n",
      "625/625 [==============================] - 139s 223ms/step - loss: 0.5049 - accuracy: 0.7538 - val_loss: 0.5194 - val_accuracy: 0.7390\n",
      "Epoch 16/100\n",
      "625/625 [==============================] - 138s 221ms/step - loss: 0.4951 - accuracy: 0.7583 - val_loss: 0.5051 - val_accuracy: 0.7592\n",
      "Epoch 17/100\n",
      "625/625 [==============================] - 139s 222ms/step - loss: 0.4842 - accuracy: 0.7645 - val_loss: 0.5061 - val_accuracy: 0.7552\n",
      "Epoch 18/100\n",
      "625/625 [==============================] - 139s 223ms/step - loss: 0.4774 - accuracy: 0.7697 - val_loss: 0.4906 - val_accuracy: 0.7660\n",
      "Epoch 19/100\n",
      "625/625 [==============================] - 139s 222ms/step - loss: 0.4674 - accuracy: 0.7758 - val_loss: 0.4944 - val_accuracy: 0.7540\n",
      "Epoch 20/100\n",
      "625/625 [==============================] - 139s 222ms/step - loss: 0.4648 - accuracy: 0.7788 - val_loss: 0.4898 - val_accuracy: 0.7660\n",
      "Epoch 21/100\n",
      "625/625 [==============================] - 139s 222ms/step - loss: 0.4576 - accuracy: 0.7828 - val_loss: 0.4886 - val_accuracy: 0.7688\n",
      "Epoch 22/100\n",
      "625/625 [==============================] - 138s 221ms/step - loss: 0.4122 - accuracy: 0.8102 - val_loss: 0.4883 - val_accuracy: 0.7654\n",
      "Epoch 30/100\n",
      "625/625 [==============================] - 138s 220ms/step - loss: 0.4036 - accuracy: 0.8140 - val_loss: 0.4686 - val_accuracy: 0.7784\n",
      "Epoch 31/100\n",
      "625/625 [==============================] - 138s 221ms/step - loss: 0.4091 - accuracy: 0.8127 - val_loss: 0.4770 - val_accuracy: 0.7690\n",
      "Epoch 32/100\n",
      "625/625 [==============================] - 138s 221ms/step - loss: 0.3822 - accuracy: 0.8277 - val_loss: 0.5361 - val_accuracy: 0.7434\n",
      "Epoch 37/100\n",
      "625/625 [==============================] - 138s 221ms/step - loss: 0.3637 - accuracy: 0.8356 - val_loss: 0.4776 - val_accuracy: 0.7778\n",
      "Epoch 41/100\n",
      "625/625 [==============================] - 138s 221ms/step - loss: 0.3538 - accuracy: 0.8421 - val_loss: 0.4667 - val_accuracy: 0.7846\n",
      "Epoch 44/100\n",
      "625/625 [==============================] - 138s 220ms/step - loss: 0.3439 - accuracy: 0.8508 - val_loss: 0.4804 - val_accuracy: 0.7836\n",
      "Epoch 48/100\n",
      "625/625 [==============================] - 138s 222ms/step - loss: 0.3365 - accuracy: 0.8511 - val_loss: 0.4679 - val_accuracy: 0.7856\n",
      "Epoch 49/100\n",
      "625/625 [==============================] - 138s 221ms/step - loss: 0.3317 - accuracy: 0.8535 - val_loss: 0.4764 - val_accuracy: 0.7812\n",
      "Epoch 50/100\n",
      "625/625 [==============================] - 139s 222ms/step - loss: 0.2918 - accuracy: 0.8749 - val_loss: 0.4833 - val_accuracy: 0.7904\n",
      "Epoch 59/100\n",
      "625/625 [==============================] - 138s 221ms/step - loss: 0.2641 - accuracy: 0.8883 - val_loss: 0.5221 - val_accuracy: 0.7838\n",
      "Epoch 66/100\n",
      "625/625 [==============================] - 138s 221ms/step - loss: 0.2584 - accuracy: 0.8915 - val_loss: 0.4827 - val_accuracy: 0.8002\n",
      "Epoch 70/100\n",
      "625/625 [==============================] - 140s 223ms/step - loss: 0.2421 - accuracy: 0.8998 - val_loss: 0.5381 - val_accuracy: 0.7776\n",
      "Epoch 73/100\n",
      "625/625 [==============================] - 139s 222ms/step - loss: 0.2293 - accuracy: 0.9051 - val_loss: 0.5952 - val_accuracy: 0.7660\n",
      "Epoch 77/100\n",
      "625/625 [==============================] - 138s 221ms/step - loss: 0.2113 - accuracy: 0.9151 - val_loss: 0.5519 - val_accuracy: 0.7868\n",
      "Epoch 81/100\n",
      "625/625 [==============================] - 138s 221ms/step - loss: 0.2050 - accuracy: 0.9158 - val_loss: 0.5563 - val_accuracy: 0.7822\n",
      "Epoch 84/100\n",
      "625/625 [==============================] - 139s 222ms/step - loss: 0.1920 - accuracy: 0.9251 - val_loss: 0.5770 - val_accuracy: 0.7870\n",
      "Epoch 88/100\n",
      "625/625 [==============================] - 139s 222ms/step - loss: 0.1710 - accuracy: 0.9336 - val_loss: 0.6343 - val_accuracy: 0.7738\n",
      "Epoch 95/100\n",
      "625/625 [==============================] - 138s 221ms/step - loss: 0.1647 - accuracy: 0.9348 - val_loss: 0.6862 - val_accuracy: 0.7748\n",
      "Epoch 99/100\n",
      "174/625 [=======>......................] - ETA: 1:18 - loss: 0.1554 - accuracy: 0.9386"
     ]
    }
   ],
   "source": [
    "training = classification_model.fit_generator(train_generator, epochs=100, validation_data=validation_generator)#, callbacks=)\n",
    "history = training.history\n",
    "telegram_bot_sendtext('Training finished!')"
   ]
  },
  {
   "cell_type": "markdown",
   "metadata": {},
   "source": [
    "# Save Model and training history"
   ]
  },
  {
   "cell_type": "code",
   "execution_count": 8,
   "metadata": {
    "_cell_guid": "79c7e3d0-c299-4dcb-8224-4455121ee9b0",
    "_uuid": "d629ff2d2480ee46fbb7e2d37f6b5fab8052498a"
   },
   "outputs": [
    {
     "data": {
      "text/plain": [
       "{'ok': True,\n",
       " 'result': {'message_id': 7302,\n",
       "  'from': {'id': 862297446,\n",
       "   'is_bot': True,\n",
       "   'first_name': 'Daniel_bot',\n",
       "   'username': 'KingArschFickerBot'},\n",
       "  'chat': {'id': 660201452,\n",
       "   'first_name': 'Daniel',\n",
       "   'username': 'ps3ud0nym',\n",
       "   'type': 'private'},\n",
       "  'date': 1580855103,\n",
       "  'text': 'Model saved!'}}"
      ]
     },
     "execution_count": 8,
     "metadata": {},
     "output_type": "execute_result"
    }
   ],
   "source": [
    "classification_model.save(f\"{model_destination}{modelname}_bs_{bs}_{optimizer}_{lr}.h5\")\n",
    "\n",
    "hist_df = pd.DataFrame(history)\n",
    "hist_df.to_csv(f'history{modelname}_bs_{bs}_{optimizer}_{lr}.csv')\n",
    "telegram_bot_sendtext(str(history))\n",
    "telegram_bot_sendtext('Model saved!')"
   ]
  },
  {
   "cell_type": "markdown",
   "metadata": {},
   "source": [
    "# Evaluate Training"
   ]
  },
  {
   "cell_type": "code",
   "execution_count": 9,
   "metadata": {},
   "outputs": [
    {
     "data": {
      "image/png": "[encoded data removed]",
      "text/plain": [
       "<Figure size 640x480 with 1 Axes>"
      ]
     },
     "metadata": {},
     "output_type": "display_data"
    },
    {
     "data": {
      "image/png": "[encoded data removed]",
      "text/plain": [
       "<Figure size 640x480 with 1 Axes>"
      ]
     },
     "metadata": {},
     "output_type": "display_data"
    }
   ],
   "source": [
    "plt.style.use('dark_background')\n",
    "#history['loss'] = [1,2,3,4,5]\n",
    "#history['accuracy'] = [5,4,3,2,1]\n",
    "#history['val_loss'] = [2,4,6,8,10]\n",
    "#history['val_accuracy'] = [10,8,6,4,2]\n",
    "#history = training.history\n",
    "\n",
    "plt.figure(num=None, figsize=(8, 6), dpi=80)\n",
    "plt.title('Loss')\n",
    "plt.plot(history['loss'], color='red')\n",
    "plt.plot(history['val_loss'], color='green')\n",
    "plt.legend(['Training Loss', 'Validation Loss'])\n",
    "plt.show()\n",
    "\n",
    "plt.figure(num=None, figsize=(8, 6), dpi=80)\n",
    "plt.title('Accuracy')\n",
    "plt.plot(history['accuracy'], color='red')\n",
    "plt.plot(history['val_accuracy'], color='green')\n",
    "plt.legend(['Training accuracy', 'Validation accuracy'])\n",
    "plt.show()"
   ]
  },
  {
   "cell_type": "code",
   "execution_count": 10,
   "metadata": {},
   "outputs": [],
   "source": [
    "from sklearn.metrics import confusion_matrix\n",
    "import seaborn as sn\n",
    "import numpy as np\n",
    "\n",
    "validation_generator.shuffle = False\n",
    "validation_generator.index_array = None\n",
    "\n",
    "y_pred = classification_model.predict_generator(validation_generator)\n",
    "y_label = validation_generator.classes\n",
    "\n",
    "# Save y_pred and y_label into Dataframe\n",
    "#pd.DataFrame({'y_pred':y_pred, 'y_label':y_label})\n",
    "\n",
    "# Confusion MATRIX cat=0 dog=1\n",
    "# roundpredictions\n",
    "y_pred_bin = np.where(y_pred > 0.5, 1, 0)"
   ]
  },
  {
   "cell_type": "code",
   "execution_count": 11,
   "metadata": {},
   "outputs": [
    {
     "data": {
      "text/plain": [
       "<matplotlib.axes._subplots.AxesSubplot at 0x7f9bbca7d5c0>"
      ]
     },
     "execution_count": 11,
     "metadata": {},
     "output_type": "execute_result"
    },
    {
     "data": {
      "image/png": "[encoded data removed]",
      "text/plain": [
       "<Figure size 720x504 with 2 Axes>"
      ]
     },
     "metadata": {},
     "output_type": "display_data"
    }
   ],
   "source": [
    "\n",
    "[[tn, fp], [fn, tp]] = confusion_matrix(y_label, y_pred_bin, labels=[0, 1])# normalize='all')\n",
    "array = [[tn/(tn+fp),fp/(tn+fp)], \n",
    "        [fn/(tp+fn),tp/(tp+fn)]]\n",
    "df_cm = pd.DataFrame(array, index = [\"Cat\",\"Dog\"],\n",
    "                  columns = [\"Cat\",\"Dog\"])\n",
    "plt.figure(figsize = (10,7))\n",
    "sn.heatmap(df_cm, annot=True)"
   ]
  },
  {
   "cell_type": "markdown",
   "metadata": {},
   "source": [
    "# Prepare Submission"
   ]
  },
  {
   "cell_type": "code",
   "execution_count": 12,
   "metadata": {},
   "outputs": [],
   "source": [
    "predicted = classification_model.predict_generator(test_generator)\n",
    "sample_submission = pd.read_csv(\"../input/dogs-vs-cats-redux-kernels-edition/sample_submission.csv\")\n",
    "sample_submission.label = predicted\n",
    "sample_submission.to_csv('next_submission.csv')"
   ]
  },
  {
   "cell_type": "markdown",
   "metadata": {},
   "source": [
    "# Delete Dataset from working directory\n",
    "\n",
    "We delete it in order to keep our output section clean"
   ]
  },
  {
   "cell_type": "code",
   "execution_count": 13,
   "metadata": {},
   "outputs": [],
   "source": [
    "import shutil\n",
    "\n",
    "shutil.rmtree('../working/train')\n",
    "shutil.rmtree('../working/test')"
   ]
  }
 ],
 "metadata": {
  "kernelspec": {
   "display_name": "Python 3",
   "language": "python",
   "name": "python3"
  },
  "language_info": {
   "codemirror_mode": {
    "name": "ipython",
    "version": 3
   },
   "file_extension": ".py",
   "mimetype": "text/x-python",
   "name": "python",
   "nbconvert_exporter": "python",
   "pygments_lexer": "ipython3",
   "version": "3.7.5"
  }
 },
 "nbformat": 4,
 "nbformat_minor": 1
}
