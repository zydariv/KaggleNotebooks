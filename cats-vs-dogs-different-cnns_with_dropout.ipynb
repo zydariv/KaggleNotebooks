{
 "cells": [
  {
   "cell_type": "markdown",
   "metadata": {},
   "source": [
    "# Imports"
   ]
  },
  {
   "cell_type": "code",
   "execution_count": 1,
   "metadata": {},
   "outputs": [],
   "source": [
    "import time\n",
    "import requests\n",
    "import os\n",
    "from zipfile import ZipFile\n",
    "import pandas as pd\n",
    "import numpy as np\n",
    "\n",
    "from matplotlib import pyplot as plt\n",
    "\n",
    "from tensorflow.python.keras.preprocessing.image import ImageDataGenerator\n",
    "from tensorflow.python.keras.layers import Dense, Dropout, Input, Activation, Conv2D, MaxPooling2D, Flatten\n",
    "from tensorflow.python.keras import Sequential\n",
    "from tensorflow.keras.optimizers import SGD\n",
    "from tensorflow.keras.callbacks import *"
   ]
  },
  {
   "cell_type": "markdown",
   "metadata": {},
   "source": [
    "# HTTPS Requests, to send status via TelegramBot"
   ]
  },
  {
   "cell_type": "code",
   "execution_count": 2,
   "metadata": {},
   "outputs": [
    {
     "data": {
      "text/plain": [
       "{'ok': True,\n",
       " 'result': {'message_id': 7311,\n",
       "  'from': {'id': 862297446,\n",
       "   'is_bot': True,\n",
       "   'first_name': 'Daniel_bot',\n",
       "   'username': 'KingArschFickerBot'},\n",
       "  'chat': {'id': 660201452,\n",
       "   'first_name': 'Daniel',\n",
       "   'username': 'ps3ud0nym',\n",
       "   'type': 'private'},\n",
       "  'date': 1580905430,\n",
       "  'text': 'Start Script'}}"
      ]
     },
     "execution_count": 2,
     "metadata": {},
     "output_type": "execute_result"
    }
   ],
   "source": [
    "def telegram_bot_sendtext(bot_message):\n",
    "    \n",
    "    bot_token = 'ENTER YOUR BOT TOKEN'\n",
    "    bot_chatID = 'ENTER CHAT ID'\n",
    "    send_text = 'https://api.telegram.org/bot' + bot_token + '/sendMessage?chat_id=' + bot_chatID + '&parse_mode=Markdown&text=' + bot_message\n",
    "\n",
    "    response = requests.get(send_text)\n",
    "\n",
    "    return response.json()\n",
    "\n",
    "telegram_bot_sendtext('Start Script')"
   ]
  },
  {
   "cell_type": "markdown",
   "metadata": {},
   "source": [
    "# Load Data\n",
    "\n",
    "\n",
    "1. Add the *Dogs vs. Cats Redux: Kernels Edition* on the top right __+ Add Data__\n",
    "   \n",
    "   Now we have the folling folder structure:  \n",
    "   \n",
    "   ├── Dogs vs. Cats Redux: Kernels Edition  \n",
    "   │   ├── test.zip  \n",
    "   │   ├── train.zip  \n",
    "   │   └── sample_submission.csv  \n",
    "   \n",
    "   \n",
    "2. Next we need to extract train and test data. We will use __ZipFile__ for that. Since the input directory is a __read only__ directory, we have to extract the zip files into the output directory."
   ]
  },
  {
   "cell_type": "code",
   "execution_count": 3,
   "metadata": {},
   "outputs": [],
   "source": [
    "with ZipFile('../input/dogs-vs-cats-redux-kernels-edition/train.zip') as zipobj:\n",
    "    zipobj.extractall('../working')\n",
    "with ZipFile('../input/dogs-vs-cats-redux-kernels-edition/test.zip') as zipobj:\n",
    "    zipobj.extractall('../working')"
   ]
  },
  {
   "cell_type": "code",
   "execution_count": 4,
   "metadata": {},
   "outputs": [],
   "source": [
    "train_data = os.listdir('../working/train')\n",
    "test_data = os.listdir('../working/test')\n",
    "\n",
    "os.mkdir('../working/train/cats')\n",
    "os.mkdir('../working/train/dogs')\n",
    "os.mkdir('../working/test/cats')\n",
    "os.mkdir('../working/test/dogs')\n",
    "os.mkdir('../working/models')\n",
    "\n",
    "for i in train_data:\n",
    "    #print(i)\n",
    "    if (i != 'cats') and (i != 'dogs'):\n",
    "        if 'cat' in i:\n",
    "            os.replace(\"../working/train/\"+i, \"../working/train/cats/\"+i)\n",
    "        elif 'dog' in i:\n",
    "            os.replace(\"../working/train/\"+i, \"../working/train/dogs/\"+i)"
   ]
  },
  {
   "cell_type": "markdown",
   "metadata": {},
   "source": [
    " 3. After extraction and sorting we have the following folder structure:\n",
    " \n",
    " ├── working   \n",
    " │   ├── train   \n",
    " │   │    ├── cats  \n",
    " │   │    └── dogs  \n",
    " │   ├── test    \n",
    " │   └── sample_submission.csv    "
   ]
  },
  {
   "cell_type": "markdown",
   "metadata": {},
   "source": [
    "# Data Generator"
   ]
  },
  {
   "cell_type": "code",
   "execution_count": 5,
   "metadata": {
    "_cell_guid": "b1076dfc-b9ad-4769-8c92-a6c4dae69d19",
    "_uuid": "8f2839f25d086af736a60e9eeb907d3b93b6e0e5"
   },
   "outputs": [
    {
     "name": "stdout",
     "output_type": "stream",
     "text": [
      "Found 20000 images belonging to 2 classes.\n",
      "Found 5000 images belonging to 2 classes.\n",
      "Found 12500 images belonging to 1 classes.\n"
     ]
    }
   ],
   "source": [
    "bs=32\n",
    "\n",
    "train_datagen = ImageDataGenerator(\n",
    "        rescale=1./255,\n",
    "        shear_range=0.2,\n",
    "        zoom_range=0.2,\n",
    "        horizontal_flip=True,\n",
    "        validation_split=0.2)\n",
    "\n",
    "test_datagen = ImageDataGenerator(rescale=1./255)\n",
    "\n",
    "train_generator = train_datagen.flow_from_directory(\n",
    "        '../working/train',\n",
    "        target_size=(128, 128),\n",
    "        batch_size=bs,\n",
    "        class_mode='binary',\n",
    "        subset='training') # set as training data\n",
    "\n",
    "validation_generator = train_datagen.flow_from_directory(\n",
    "        '../working/train',\n",
    "        target_size=(128, 128),\n",
    "        batch_size=bs,\n",
    "        class_mode='binary',\n",
    "        subset='validation') # set as validation data\n",
    "\n",
    "test_generator = test_datagen.flow_from_directory(\n",
    "        '../working',\n",
    "        target_size=(128, 128),\n",
    "        batch_size=1,\n",
    "        classes=['test'])"
   ]
  },
  {
   "cell_type": "markdown",
   "metadata": {},
   "source": [
    "# Define and Train model"
   ]
  },
  {
   "cell_type": "code",
   "execution_count": 6,
   "metadata": {},
   "outputs": [
    {
     "name": "stdout",
     "output_type": "stream",
     "text": [
      "Done!\n"
     ]
    }
   ],
   "source": [
    "lr=None\n",
    "modelname=''\n",
    "model_destination = '../working/models/'\n",
    "optimizer = ''\n",
    "\n",
    "# Callbacks\n",
    "checkpoint = ModelCheckpoint(f\"{model_destination}{modelname}_bs_{bs}_{optimizer}_{lr}.h5\",\n",
    "                             monitor='val_loss',\n",
    "                             verbose=0, save_best_only=True, save_weights_only=False)    \n",
    "es = EarlyStopping(monitor='val_loss', patience=3, baseline=None, restore_best_weights=False)\n",
    "\n",
    "callbacks = [checkpoint, es]\n",
    "# define cnn model\n",
    "def vgg():\n",
    "    model = Sequential()\n",
    "    model.add(Conv2D(32, (3, 3), activation='relu', kernel_initializer='he_uniform', padding='same', input_shape=(128, 128, 3)))\n",
    "    model.add(MaxPooling2D((2, 2)))\n",
    "    model.add(Flatten())\n",
    "    model.add(Dropout(0.5))\n",
    "    model.add(Dense(128, activation='relu', kernel_initializer='he_uniform'))\n",
    "    model.add(Dense(1, activation='sigmoid'))\n",
    "    # compile model\n",
    "    opt = SGD(lr=0.001, momentum=0.9)\n",
    "    model.compile(optimizer=opt, loss='binary_crossentropy', metrics=['accuracy'])\n",
    "    optimizer = opt.__dict__['_name']\n",
    "    lr = opt.__dict__['_hyper']['learning_rate']\n",
    "    global modelname\n",
    "    modelname ='VGG'\n",
    "    return model\n",
    "\n",
    "classification_model = vgg()\n",
    "print('Done!')"
   ]
  },
  {
   "cell_type": "code",
   "execution_count": 7,
   "metadata": {},
   "outputs": [
    {
     "name": "stdout",
     "output_type": "stream",
     "text": [
      "Train for 625 steps, validate for 157 steps\n",
      "Epoch 1/30\n",
      "625/625 [==============================] - 145s 232ms/step - loss: 0.6943 - accuracy: 0.5348 - val_loss: 0.6826 - val_accuracy: 0.5844\n",
      "Epoch 2/30\n",
      "625/625 [==============================] - 144s 230ms/step - loss: 0.6723 - accuracy: 0.5933 - val_loss: 0.6599 - val_accuracy: 0.6048\n",
      "Epoch 3/30\n",
      "625/625 [==============================] - 141s 226ms/step - loss: 0.6626 - accuracy: 0.5977 - val_loss: 0.6534 - val_accuracy: 0.6050\n",
      "Epoch 4/30\n",
      "625/625 [==============================] - 142s 227ms/step - loss: 0.6585 - accuracy: 0.6095 - val_loss: 0.6482 - val_accuracy: 0.6270\n",
      "Epoch 5/30\n",
      "625/625 [==============================] - 140s 224ms/step - loss: 0.6487 - accuracy: 0.6216 - val_loss: 0.6261 - val_accuracy: 0.6530\n",
      "Epoch 6/30\n",
      "625/625 [==============================] - 141s 225ms/step - loss: 0.6342 - accuracy: 0.6335 - val_loss: 0.6193 - val_accuracy: 0.6566\n",
      "Epoch 7/30\n",
      "625/625 [==============================] - 140s 224ms/step - loss: 0.6255 - accuracy: 0.6480 - val_loss: 0.6356 - val_accuracy: 0.6246\n",
      "Epoch 8/30\n",
      "625/625 [==============================] - 140s 224ms/step - loss: 0.6172 - accuracy: 0.6514 - val_loss: 0.6022 - val_accuracy: 0.6746\n",
      "Epoch 9/30\n",
      "625/625 [==============================] - 140s 225ms/step - loss: 0.6044 - accuracy: 0.6661 - val_loss: 0.5886 - val_accuracy: 0.6862\n",
      "Epoch 10/30\n",
      "625/625 [==============================] - 142s 227ms/step - loss: 0.5902 - accuracy: 0.6831 - val_loss: 0.5756 - val_accuracy: 0.7010\n",
      "Epoch 11/30\n",
      "625/625 [==============================] - 140s 224ms/step - loss: 0.5727 - accuracy: 0.7005 - val_loss: 0.5633 - val_accuracy: 0.7094\n",
      "Epoch 12/30\n",
      "625/625 [==============================] - 141s 225ms/step - loss: 0.5613 - accuracy: 0.7107 - val_loss: 0.5470 - val_accuracy: 0.7386\n",
      "Epoch 13/30\n",
      "625/625 [==============================] - 141s 225ms/step - loss: 0.5459 - accuracy: 0.7225 - val_loss: 0.5450 - val_accuracy: 0.7222\n",
      "Epoch 14/30\n",
      "625/625 [==============================] - 140s 224ms/step - loss: 0.5381 - accuracy: 0.7300 - val_loss: 0.5433 - val_accuracy: 0.7228\n",
      "Epoch 15/30\n",
      "625/625 [==============================] - 140s 225ms/step - loss: 0.5282 - accuracy: 0.7367 - val_loss: 0.5328 - val_accuracy: 0.7268\n",
      "Epoch 16/30\n",
      "625/625 [==============================] - 141s 225ms/step - loss: 0.5235 - accuracy: 0.7364 - val_loss: 0.5242 - val_accuracy: 0.7378\n",
      "Epoch 17/30\n",
      "625/625 [==============================] - 140s 224ms/step - loss: 0.5156 - accuracy: 0.7436 - val_loss: 0.5141 - val_accuracy: 0.7460\n",
      "Epoch 18/30\n",
      "625/625 [==============================] - 140s 224ms/step - loss: 0.5096 - accuracy: 0.7451 - val_loss: 0.5054 - val_accuracy: 0.7514\n",
      "Epoch 19/30\n",
      "625/625 [==============================] - 144s 230ms/step - loss: 0.5017 - accuracy: 0.7557 - val_loss: 0.5146 - val_accuracy: 0.7510\n",
      "Epoch 20/30\n",
      "625/625 [==============================] - 144s 230ms/step - loss: 0.4962 - accuracy: 0.7581 - val_loss: 0.5077 - val_accuracy: 0.7460\n",
      "Epoch 21/30\n",
      "625/625 [==============================] - 142s 228ms/step - loss: 0.4911 - accuracy: 0.7606 - val_loss: 0.5045 - val_accuracy: 0.7514\n",
      "Epoch 22/30\n",
      "625/625 [==============================] - 140s 224ms/step - loss: 0.4592 - accuracy: 0.7799 - val_loss: 0.4780 - val_accuracy: 0.7702\n",
      "Epoch 30/30\n",
      "625/625 [==============================] - 141s 225ms/step - loss: 0.4552 - accuracy: 0.7847 - val_loss: 0.4788 - val_accuracy: 0.7758\n"
     ]
    },
    {
     "data": {
      "text/plain": [
       "{'ok': True,\n",
       " 'result': {'message_id': 7312,\n",
       "  'from': {'id': 862297446,\n",
       "   'is_bot': True,\n",
       "   'first_name': 'Daniel_bot',\n",
       "   'username': 'KingArschFickerBot'},\n",
       "  'chat': {'id': 660201452,\n",
       "   'first_name': 'Daniel',\n",
       "   'username': 'ps3ud0nym',\n",
       "   'type': 'private'},\n",
       "  'date': 1580909689,\n",
       "  'text': 'Training finished!'}}"
      ]
     },
     "execution_count": 7,
     "metadata": {},
     "output_type": "execute_result"
    }
   ],
   "source": [
    "training = classification_model.fit_generator(train_generator, epochs=30, validation_data=validation_generator, callbacks=callbacks)\n",
    "history = training.history\n",
    "telegram_bot_sendtext('Training finished!')"
   ]
  },
  {
   "cell_type": "markdown",
   "metadata": {},
   "source": [
    "# Save Model and training history"
   ]
  },
  {
   "cell_type": "code",
   "execution_count": 8,
   "metadata": {
    "_cell_guid": "79c7e3d0-c299-4dcb-8224-4455121ee9b0",
    "_uuid": "d629ff2d2480ee46fbb7e2d37f6b5fab8052498a"
   },
   "outputs": [
    {
     "data": {
      "text/plain": [
       "{'ok': True,\n",
       " 'result': {'message_id': 7314,\n",
       "  'from': {'id': 862297446,\n",
       "   'is_bot': True,\n",
       "   'first_name': 'Daniel_bot',\n",
       "   'username': 'KingArschFickerBot'},\n",
       "  'chat': {'id': 660201452,\n",
       "   'first_name': 'Daniel',\n",
       "   'username': 'ps3ud0nym',\n",
       "   'type': 'private'},\n",
       "  'date': 1580909696,\n",
       "  'text': 'Model saved!'}}"
      ]
     },
     "execution_count": 8,
     "metadata": {},
     "output_type": "execute_result"
    }
   ],
   "source": [
    "#classification_model.save(f\"{model_destination}{modelname}_bs_{bs}_{optimizer}_{lr}.h5\")\n",
    "\n",
    "hist_df = pd.DataFrame(history)\n",
    "hist_df.to_csv(f'history{modelname}_bs_{bs}_{optimizer}_{lr}.csv')\n",
    "telegram_bot_sendtext(str(history))\n",
    "telegram_bot_sendtext('Model saved!')"
   ]
  },
  {
   "cell_type": "markdown",
   "metadata": {},
   "source": [
    "# Evaluate Training"
   ]
  },
  {
   "cell_type": "code",
   "execution_count": 9,
   "metadata": {},
   "outputs": [
    {
     "data": {
      "image/png": "[encoded data removed]",
      "text/plain": [
       "<Figure size 640x480 with 1 Axes>"
      ]
     },
     "metadata": {},
     "output_type": "display_data"
    },
    {
     "data": {
      "image/png": "[encoded data removed]",
      "text/plain": [
       "<Figure size 640x480 with 1 Axes>"
      ]
     },
     "metadata": {},
     "output_type": "display_data"
    }
   ],
   "source": [
    "plt.style.use('dark_background')\n",
    "#history['loss'] = [1,2,3,4,5]\n",
    "#history['accuracy'] = [5,4,3,2,1]\n",
    "#history['val_loss'] = [2,4,6,8,10]\n",
    "#history['val_accuracy'] = [10,8,6,4,2]\n",
    "#history = training.history\n",
    "\n",
    "plt.figure(num=None, figsize=(8, 6), dpi=80)\n",
    "plt.title('Loss')\n",
    "plt.plot(history['loss'], color='red')\n",
    "plt.plot(history['val_loss'], color='green')\n",
    "plt.legend(['Training Loss', 'Validation Loss'])\n",
    "plt.show()\n",
    "\n",
    "plt.figure(num=None, figsize=(8, 6), dpi=80)\n",
    "plt.title('Accuracy')\n",
    "plt.plot(history['accuracy'], color='red')\n",
    "plt.plot(history['val_accuracy'], color='green')\n",
    "plt.legend(['Training accuracy', 'Validation accuracy'])\n",
    "plt.show()"
   ]
  },
  {
   "cell_type": "code",
   "execution_count": 10,
   "metadata": {},
   "outputs": [],
   "source": [
    "from sklearn.metrics import confusion_matrix\n",
    "import seaborn as sn\n",
    "import numpy as np\n",
    "\n",
    "validation_generator.shuffle = False\n",
    "validation_generator.index_array = None\n",
    "\n",
    "y_pred = classification_model.predict_generator(validation_generator)\n",
    "y_label = validation_generator.classes\n",
    "\n",
    "# Save y_pred and y_label into Dataframe\n",
    "#pd.DataFrame({'y_pred':y_pred, 'y_label':y_label})\n",
    "\n",
    "# Confusion MATRIX cat=0 dog=1\n",
    "# roundpredictions\n",
    "y_pred_bin = np.where(y_pred > 0.5, 1, 0)"
   ]
  },
  {
   "cell_type": "code",
   "execution_count": 11,
   "metadata": {},
   "outputs": [
    {
     "data": {
      "text/plain": [
       "<matplotlib.axes._subplots.AxesSubplot at 0x7f6a2701c6a0>"
      ]
     },
     "execution_count": 11,
     "metadata": {},
     "output_type": "execute_result"
    },
    {
     "data": {
      "image/png": "[encoded data removed]",
      "text/plain": [
       "<Figure size 720x504 with 2 Axes>"
      ]
     },
     "metadata": {},
     "output_type": "display_data"
    }
   ],
   "source": [
    "\n",
    "[[tn, fp], [fn, tp]] = confusion_matrix(y_label, y_pred_bin, labels=[0, 1])# normalize='all')\n",
    "array = [[tn/(tn+fp),fp/(tn+fp)], \n",
    "        [fn/(tp+fn),tp/(tp+fn)]]\n",
    "df_cm = pd.DataFrame(array, index = [\"Cat\",\"Dog\"],\n",
    "                  columns = [\"Cat\",\"Dog\"])\n",
    "plt.figure(figsize = (10,7))\n",
    "sn.heatmap(df_cm, annot=True)"
   ]
  },
  {
   "cell_type": "markdown",
   "metadata": {},
   "source": [
    "# Prepare Submission"
   ]
  },
  {
   "cell_type": "code",
   "execution_count": 12,
   "metadata": {},
   "outputs": [],
   "source": [
    "predicted = classification_model.predict_generator(test_generator)\n",
    "sample_submission = pd.read_csv(\"../input/dogs-vs-cats-redux-kernels-edition/sample_submission.csv\")\n",
    "sample_submission.label = predicted\n",
    "sample_submission.to_csv('next_submission.csv')"
   ]
  },
  {
   "cell_type": "markdown",
   "metadata": {},
   "source": [
    "# Delete Dataset from working directory\n",
    "\n",
    "We delete it in order to keep our output section clean"
   ]
  },
  {
   "cell_type": "code",
   "execution_count": 13,
   "metadata": {},
   "outputs": [],
   "source": [
    "import shutil\n",
    "\n",
    "shutil.rmtree('../working/train')\n",
    "shutil.rmtree('../working/test')"
   ]
  },
  {
   "cell_type": "code",
   "execution_count": 14,
   "metadata": {},
   "outputs": [],
   "source": [
    "#print(test_generator.__getitem__(0))\n",
    "\n",
    "\n",
    "#import base64\n",
    "#data = open(f\"{model_destination}{modelname}_bs_{bs}_{optimizer}_{lr}.h5\", \"rb\").read()\n",
    "#data = open(f\"158d.jpg\", \"rb\").read() \n",
    "#no_enc = repr(data)\n",
    "#encoded = base64.b64encode(no_enc)\n",
    "#telegram_bot_sendtext(data)\n",
    "#print(encoded)\n",
    "#telegram_bot_sendtext('Model as Text (BASE64)')"
   ]
  }
 ],
 "metadata": {
  "kernelspec": {
   "display_name": "Python 3",
   "language": "python",
   "name": "python3"
  },
  "language_info": {
   "codemirror_mode": {
    "name": "ipython",
    "version": 3
   },
   "file_extension": ".py",
   "mimetype": "text/x-python",
   "name": "python",
   "nbconvert_exporter": "python",
   "pygments_lexer": "ipython3",
   "version": "3.7.5"
  }
 },
 "nbformat": 4,
 "nbformat_minor": 1
}
